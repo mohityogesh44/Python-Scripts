{
 "cells": [
  {
   "cell_type": "code",
   "execution_count": 1,
   "metadata": {},
   "outputs": [],
   "source": [
    "from urllib import request, parse\n",
    "import ssl\n",
    "import json"
   ]
  },
  {
   "cell_type": "code",
   "execution_count": 19,
   "metadata": {},
   "outputs": [
    {
     "name": "stdout",
     "output_type": "stream",
     "text": [
      "Enter url: http://py4e-data.dr-chuck.net/comments_998016.json\n",
      "Retrieving http://py4e-data.dr-chuck.net/comments_998016.json\n",
      "Retrieved 2725 characters\n",
      "Sum:2346\n"
     ]
    }
   ],
   "source": [
    "# url = \"http://py4e-data.dr-chuck.net/comments_42.json\"\n",
    "\n",
    "#Ignore SSL errors\n",
    "ctx = ssl.create_default_context()\n",
    "ctx.check_hostname = False\n",
    "ctx.verify_mode = ssl.CERT_NONE\n",
    "\n",
    "url = input(\"Enter url: \")\n",
    "print(f\"Retrieving {url}\")\n",
    "html = request.urlopen(url, context = ctx)\n",
    "data = html.read().decode()\n",
    "\n",
    "print(f\"Retrieved {len(data)} characters\")\n",
    "js = json.loads(data)\n",
    "# print(json.dumps(js,indent = 2))\n",
    "#Load headers\n",
    "# headers = dict(html.getheaders())\n",
    "# print(js['comments'][0]['count'])\n",
    "# users = js['comments']\n",
    "s = 0\n",
    "for u in js['comments']:\n",
    "    s += u['count']\n",
    "print(f\"Sum:{s}\")"
   ]
  },
  {
   "cell_type": "code",
   "execution_count": null,
   "metadata": {},
   "outputs": [],
   "source": []
  }
 ],
 "metadata": {
  "kernelspec": {
   "display_name": "Python 3",
   "language": "python",
   "name": "python3"
  },
  "language_info": {
   "codemirror_mode": {
    "name": "ipython",
    "version": 3
   },
   "file_extension": ".py",
   "mimetype": "text/x-python",
   "name": "python",
   "nbconvert_exporter": "python",
   "pygments_lexer": "ipython3",
   "version": "3.7.9"
  }
 },
 "nbformat": 4,
 "nbformat_minor": 4
}
