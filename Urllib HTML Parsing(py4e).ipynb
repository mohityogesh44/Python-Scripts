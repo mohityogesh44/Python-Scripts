{
 "cells": [
  {
   "cell_type": "code",
   "execution_count": 25,
   "metadata": {},
   "outputs": [
    {
     "name": "stdout",
     "output_type": "stream",
     "text": [
      "Enter url: http://py4e-data.dr-chuck.net/comments_998015.xml\n",
      "Retrieving http://py4e-data.dr-chuck.net/comments_998015.xml\n",
      "Retrieved 4242 characters\n",
      "Count:50\n",
      "2413\n"
     ]
    }
   ],
   "source": [
    "from urllib import request\n",
    "import xml.etree.ElementTree as ET\n",
    "import ssl\n",
    "\n",
    "# link = \"http://py4e-data.dr-chuck.net/comments_998015.xml\"\n",
    "link = input(\"Enter url: \")\n",
    "# Ignore SSL certificate errors\n",
    "ctx = ssl.create_default_context()\n",
    "ctx.check_hostname = False\n",
    "ctx.verify_mode = ssl.CERT_NONE\n",
    "\n",
    "print(f\"Retrieving {link}\")\n",
    "html = request.urlopen(link,context=ctx)\n",
    "data = html.read()\n",
    "print(f\"Retrieved {len(data)} characters\")\n",
    "tree = ET.fromstring(data)\n",
    "# print(data.decode())\n",
    "results = tree.findall('.//count')\n",
    "print(f\"Count:{len(results)}\")\n",
    "s = 0\n",
    "for count in results:\n",
    "    s+= int(count.text)\n",
    "print(s)"
   ]
  }
 ],
 "metadata": {
  "kernelspec": {
   "display_name": "Python 3",
   "language": "python",
   "name": "python3"
  },
  "language_info": {
   "codemirror_mode": {
    "name": "ipython",
    "version": 3
   },
   "file_extension": ".py",
   "mimetype": "text/x-python",
   "name": "python",
   "nbconvert_exporter": "python",
   "pygments_lexer": "ipython3",
   "version": "3.7.9"
  }
 },
 "nbformat": 4,
 "nbformat_minor": 4
}
