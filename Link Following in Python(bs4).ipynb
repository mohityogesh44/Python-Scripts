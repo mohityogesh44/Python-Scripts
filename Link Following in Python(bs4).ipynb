{
 "cells": [
  {
   "cell_type": "code",
   "execution_count": 1,
   "metadata": {},
   "outputs": [],
   "source": [
    "from urllib import request\n",
    "from bs4 import BeautifulSoup\n",
    "import ssl"
   ]
  },
  {
   "cell_type": "code",
   "execution_count": 4,
   "metadata": {},
   "outputs": [],
   "source": [
    "#Handling SSL stuff\n",
    "cxt = ssl.create_default_context()\n",
    "cxt.check_hostname = False\n",
    "cxt.verify_mode = ssl.CERT_NONE"
   ]
  },
  {
   "cell_type": "code",
   "execution_count": 23,
   "metadata": {},
   "outputs": [
    {
     "name": "stdout",
     "output_type": "stream",
     "text": [
      "Enter URL:  http://py4e-data.dr-chuck.net/known_by_Sylvie.html\n",
      "Enter count: 7\n",
      "Enter position: 18\n",
      "Retrieving:  http://py4e-data.dr-chuck.net/known_by_Sylvie.html\n",
      "Retrieving: http://py4e-data.dr-chuck.net/known_by_Rhoan.html\n",
      "Retrieving: http://py4e-data.dr-chuck.net/known_by_Merina.html\n",
      "Retrieving: http://py4e-data.dr-chuck.net/known_by_Rayaan.html\n",
      "Retrieving: http://py4e-data.dr-chuck.net/known_by_Dyllon.html\n",
      "Retrieving: http://py4e-data.dr-chuck.net/known_by_Dhavid.html\n",
      "Retrieving: http://py4e-data.dr-chuck.net/known_by_Tiana.html\n",
      "Retrieving: http://py4e-data.dr-chuck.net/known_by_Kamaljit.html\n",
      "Kamaljit\n"
     ]
    }
   ],
   "source": [
    "#Data Collection\n",
    "#link : http://py4e-data.dr-chuck.net/known_by_Sylvie.html\n",
    "link = input('Enter URL: ')\n",
    "count = int(input('Enter count: '))\n",
    "pos = int(input('Enter position: '))\n",
    "print(f\"Retrieving: {link}\")\n",
    "for i in range(count):\n",
    "    html = request.urlopen(link, context=cxt).read()\n",
    "    soup = BeautifulSoup(html, 'html.parser')\n",
    "    tags = soup('a')\n",
    "    link = tags[pos-1].get('href',None)\n",
    "    print(f\"Retrieving: {link}\")\n",
    "    if(i==count-1):\n",
    "        print(tags[pos-1].contents[0])"
   ]
  }
 ],
 "metadata": {
  "kernelspec": {
   "display_name": "Python 3",
   "language": "python",
   "name": "python3"
  },
  "language_info": {
   "codemirror_mode": {
    "name": "ipython",
    "version": 3
   },
   "file_extension": ".py",
   "mimetype": "text/x-python",
   "name": "python",
   "nbconvert_exporter": "python",
   "pygments_lexer": "ipython3",
   "version": "3.7.9"
  }
 },
 "nbformat": 4,
 "nbformat_minor": 4
}
