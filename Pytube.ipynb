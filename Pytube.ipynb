{
 "cells": [
  {
   "cell_type": "code",
   "execution_count": null,
   "metadata": {},
   "outputs": [],
   "source": [
    "from pytube import YouTube\n",
    "import os\n",
    "import filetype\n",
    "\n",
    "# def progress_func(stream, chunk, file_handle, bytes_remaining):\n",
    "#     print(round((bytes_remaining/stream.filesize)*100,2), '% remaining... of {}'.format(stream.filesize))\n",
    "\n",
    "def progress_func(stream, chunk,file_handle, bytes_remaining):\n",
    "\n",
    "    size = (stream.filesize)*(1e-6)\n",
    "    p = 0\n",
    "    while p <= 100:\n",
    "        print(str(p)+'%')\n",
    "        p = percent(bytes_remaining , size)\n",
    "def percent(temp, total):\n",
    "        perc = round((temp /total)*100,2)\n",
    "        return perc\n",
    "\n",
    "defPath = os.getcwd()\n",
    "dec = input(\"Link of a video(Enter L) or file having list of multiple links(Enter F): \")\n",
    "downPath = input(\"Enter the location where you want to download:\" or defPath)\n",
    "if dec=='L':\n",
    "    link = input(\"Paste link here:\")\n",
    "    yt = YouTube(link, on_progress_callback=progress_func)\n",
    "    print(yt.streams.all())\n",
    "    itag = input(\"Enter itag of stream you want to download:\")\n",
    "    stream = yt.streams.get_by_itag(itag)\n",
    "    stream.download(downPath)\n",
    "    print(f'Video Downloaded to {os.path.dirname(downPath)} folder.')\n",
    "\n",
    "elif dec=='F':\n",
    "    filePath = input(\"Enter the complete path of the file with urls:\")\n",
    "    with open(filePath,'r') as file:\n",
    "        line = file.readline()\n",
    "        while line:\n",
    "            line = file.readline()\n",
    "            yt = YouTube(line, on_progress_callback=progress_func)\n",
    "            print(yt.streams.all())\n",
    "            itag = input(\"Enter itag of stream you want to download:\")\n",
    "            stream = yt.streams.get_by_itag(itag)\n",
    "            stream.download(downPath)\n",
    "            print(f'Videos Downloaded to {os.path.dirname(downPath) or defPath} folder.')\n"
   ]
  },
  {
   "cell_type": "code",
   "execution_count": null,
   "metadata": {},
   "outputs": [],
   "source": []
  }
 ],
 "metadata": {
  "kernelspec": {
   "display_name": "Python 3",
   "language": "python",
   "name": "python3"
  },
  "language_info": {
   "codemirror_mode": {
    "name": "ipython",
    "version": 3
   },
   "file_extension": ".py",
   "mimetype": "text/x-python",
   "name": "python",
   "nbconvert_exporter": "python",
   "pygments_lexer": "ipython3",
   "version": "3.7.6"
  }
 },
 "nbformat": 4,
 "nbformat_minor": 4
}
